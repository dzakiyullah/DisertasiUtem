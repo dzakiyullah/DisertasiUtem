{
 "cells": [
  {
   "cell_type": "code",
   "execution_count": 1,
   "metadata": {},
   "outputs": [],
   "source": [
    "# LIBRARY\n",
    "import pandas as pd\n",
    "from sklearn import preprocessing\n",
    "import seaborn as sns\n",
    "import matplotlib as plt\n",
    "import numpy as np\n",
    "from sklearn.datasets import make_multilabel_classification\n",
    "from sklearn.model_selection import train_test_split\n",
    "from sklearn import metrics\n",
    "from scipy import sparse"
   ]
  },
  {
   "cell_type": "code",
   "execution_count": 2,
   "metadata": {},
   "outputs": [
    {
     "name": "stdout",
     "output_type": "stream",
     "text": [
      "<class 'pandas.core.frame.DataFrame'>\n"
     ]
    }
   ],
   "source": [
    "# DATA\n",
    "data = pd.read_csv('Final_dataset.csv')\n",
    "x = data.iloc[:,:26]\n",
    "X= preprocessing.normalize(x)\n",
    "y=data.iloc[:,26:]-1\n",
    "X_train, X_test, y_train, y_test = train_test_split(X, y, test_size=0.33) \n",
    "print(type(y_train))\n",
    "from sklearn.tree import DecisionTreeClassifier\n",
    "model = DecisionTreeClassifier()  # model DT"
   ]
  },
  {
   "cell_type": "code",
   "execution_count": 3,
   "metadata": {},
   "outputs": [],
   "source": [
    "# PROBLEM TRANSFORMATION\n",
    "from skmultilearn.problem_transform import BinaryRelevance, ClassifierChain, LabelPowerset                 \n",
    "#model = BinaryRelevance(model)\n",
    "#model = ClassifierChain(model)\n",
    "model = LabelPowerset(model)"
   ]
  },
  {
   "cell_type": "code",
   "execution_count": 5,
   "metadata": {},
   "outputs": [],
   "source": [
    "model.fit(X_train,y_train)\n",
    "predictions = model.predict(X_test)\n",
    "y_true=y_test\n",
    "y_pred=predictions"
   ]
  },
  {
   "attachments": {},
   "cell_type": "markdown",
   "metadata": {},
   "source": [
    "EVALUASI METRIK"
   ]
  },
  {
   "cell_type": "code",
   "execution_count": 6,
   "metadata": {},
   "outputs": [
    {
     "data": {
      "text/plain": [
       "0.21818181818181817"
      ]
     },
     "execution_count": 6,
     "metadata": {},
     "output_type": "execute_result"
    }
   ],
   "source": [
    "# HITUNG HAMMING LOSS\n",
    "from sklearn.metrics import hamming_loss\n",
    "hamming_loss(y_true, y_pred)"
   ]
  },
  {
   "cell_type": "code",
   "execution_count": 7,
   "metadata": {},
   "outputs": [
    {
     "data": {
      "text/plain": [
       "0.22424242424242424"
      ]
     },
     "execution_count": 7,
     "metadata": {},
     "output_type": "execute_result"
    }
   ],
   "source": [
    "from sklearn.metrics import accuracy_score\n",
    "accuracy_score(y_test, predictions)"
   ]
  },
  {
   "cell_type": "code",
   "execution_count": 8,
   "metadata": {},
   "outputs": [
    {
     "data": {
      "text/plain": [
       "array([[[ 11,  27],\n",
       "        [ 27, 265]],\n",
       "\n",
       "       [[  5,  26],\n",
       "        [ 29, 270]],\n",
       "\n",
       "       [[  1,  15],\n",
       "        [ 22, 292]],\n",
       "\n",
       "       [[  5,  31],\n",
       "        [ 37, 257]],\n",
       "\n",
       "       [[ 95,  58],\n",
       "        [ 67, 110]],\n",
       "\n",
       "       [[ 80,  62],\n",
       "        [ 74, 114]],\n",
       "\n",
       "       [[  2,  14],\n",
       "        [ 15, 299]]])"
      ]
     },
     "execution_count": 8,
     "metadata": {},
     "output_type": "execute_result"
    }
   ],
   "source": [
    "from sklearn.metrics import multilabel_confusion_matrix\n",
    "multilabel_confusion_matrix(y_true, y_pred)"
   ]
  },
  {
   "cell_type": "code",
   "execution_count": 9,
   "metadata": {},
   "outputs": [
    {
     "name": "stdout",
     "output_type": "stream",
     "text": [
      "              precision    recall  f1-score   support\n",
      "\n",
      "           0       0.91      0.91      0.91       292\n",
      "           1       0.91      0.90      0.91       299\n",
      "           2       0.95      0.93      0.94       314\n",
      "           3       0.89      0.87      0.88       294\n",
      "           4       0.65      0.62      0.64       177\n",
      "           5       0.65      0.61      0.63       188\n",
      "           6       0.96      0.95      0.95       314\n",
      "\n",
      "   micro avg       0.87      0.86      0.86      1878\n",
      "   macro avg       0.85      0.83      0.84      1878\n",
      "weighted avg       0.87      0.86      0.86      1878\n",
      " samples avg       0.87      0.85      0.84      1878\n",
      "\n"
     ]
    },
    {
     "name": "stderr",
     "output_type": "stream",
     "text": [
      "/Library/Frameworks/Python.framework/Versions/3.10/lib/python3.10/site-packages/sklearn/metrics/_classification.py:1344: UndefinedMetricWarning: Recall and F-score are ill-defined and being set to 0.0 in samples with no true labels. Use `zero_division` parameter to control this behavior.\n",
      "  _warn_prf(average, modifier, msg_start, len(result))\n"
     ]
    }
   ],
   "source": [
    "# CLASSIFICATION REPORT : precision, recacll f1-score support every label\n",
    "from sklearn.metrics import classification_report\n",
    "#label_names = ['label A', 'label B', 'label C', 'label D']\n",
    "print(classification_report(y_true, y_pred))"
   ]
  }
 ],
 "metadata": {
  "kernelspec": {
   "display_name": "Python 3",
   "language": "python",
   "name": "python3"
  },
  "language_info": {
   "codemirror_mode": {
    "name": "ipython",
    "version": 3
   },
   "file_extension": ".py",
   "mimetype": "text/x-python",
   "name": "python",
   "nbconvert_exporter": "python",
   "pygments_lexer": "ipython3",
   "version": "3.10.9"
  },
  "orig_nbformat": 4
 },
 "nbformat": 4,
 "nbformat_minor": 2
}
